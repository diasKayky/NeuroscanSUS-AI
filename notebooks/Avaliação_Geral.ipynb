{
 "cells": [
  {
   "cell_type": "markdown",
   "id": "bb4c5c10",
   "metadata": {},
   "source": [
    "# Avaliação Geral"
   ]
  },
  {
   "cell_type": "code",
   "execution_count": 19,
   "id": "f0914701",
   "metadata": {},
   "outputs": [],
   "source": [
    "# Importações de libaries importantes\n",
    "import pandas as pd\n",
    "import numpy as np\n",
    "from sklearn.metrics import classification_report, confusion_matrix\n",
    "import seaborn as sns\n",
    "import matplotlib.pyplot as plt\n",
    "import tensorflow as tf\n",
    "import sys\n",
    "sys.path.append(\"../\")\n",
    "from neuroscan import *"
   ]
  },
  {
   "cell_type": "code",
   "execution_count": 20,
   "id": "ae36e66b",
   "metadata": {},
   "outputs": [],
   "source": [
    "# Modelo NeuroscanSUS pretreinado\n",
    "modelo = tf.keras.models.load_model(\"../neuroscan/modelos/modelo.h5\")\n",
    "modelo2 = tf.keras.models.load_model(\"../neuroscan/modelos/modelo2.h5\")"
   ]
  },
  {
   "cell_type": "code",
   "execution_count": 21,
   "id": "3a10474f",
   "metadata": {},
   "outputs": [],
   "source": [
    "# Dados de Teste\n",
    "\n",
    "dados_teste = tf.data.Dataset.load(\"../neuroscan/assets/imagens_teste\")\n",
    "\n",
    "x_teste, y_teste = [], []\n",
    "\n",
    "for x, y in dados_teste:\n",
    "\n",
    "    x_teste.append(x)\n",
    "    y_teste.append(y)\n",
    "\n",
    "x_teste = tf.concat(x_teste, axis=0)\n",
    "y_teste = tf.concat(y_teste, axis=0)"
   ]
  },
  {
   "cell_type": "code",
   "execution_count": 22,
   "id": "ac5448f3",
   "metadata": {},
   "outputs": [
    {
     "name": "stdout",
     "output_type": "stream",
     "text": [
      "10/10 [==============================] - 27s 1s/step\n",
      "10/10 [==============================] - 11s 205ms/step\n"
     ]
    }
   ],
   "source": [
    "predicao1 = modelo.predict(x_teste)\n",
    "predicao2 = modelo2.predict(x_teste)"
   ]
  },
  {
   "cell_type": "code",
   "execution_count": 23,
   "id": "34c61ea7",
   "metadata": {},
   "outputs": [],
   "source": [
    "predicao_classe = np.argmax(predicao1, axis=-1)\n",
    "predicao_classe2 = np.argmax(predicao2, axis=-1)"
   ]
  },
  {
   "cell_type": "code",
   "execution_count": 28,
   "id": "2ed60db8",
   "metadata": {},
   "outputs": [
    {
     "name": "stdout",
     "output_type": "stream",
     "text": [
      "              precision    recall  f1-score   support\n",
      "\n",
      "           0       0.69      0.26      0.38        76\n",
      "           1       0.83      0.92      0.87        92\n",
      "           2       0.69      0.95      0.80        83\n",
      "           3       0.84      0.90      0.87        62\n",
      "\n",
      "    accuracy                           0.77       313\n",
      "   macro avg       0.76      0.76      0.73       313\n",
      "weighted avg       0.76      0.77      0.73       313\n",
      "\n"
     ]
    },
    {
     "data": {
      "text/plain": [
       "<AxesSubplot:>"
      ]
     },
     "execution_count": 28,
     "metadata": {},
     "output_type": "execute_result"
    },
    {
     "data": {
      "image/png": "[encoded data removed]",
      "text/plain": [
       "<Figure size 640x480 with 2 Axes>"
      ]
     },
     "metadata": {},
     "output_type": "display_data"
    }
   ],
   "source": [
    "print(classification_report(y_teste, predicao_classe))\n",
    "sns.heatmap(confusion_matrix(y_teste, predicao_classe), annot=True)"
   ]
  },
  {
   "cell_type": "code",
   "execution_count": 29,
   "id": "02f3588e",
   "metadata": {},
   "outputs": [
    {
     "name": "stdout",
     "output_type": "stream",
     "text": [
      "              precision    recall  f1-score   support\n",
      "\n",
      "           0       1.00      0.20      0.33        76\n",
      "           1       0.77      1.00      0.87        92\n",
      "           2       0.70      1.00      0.83        83\n",
      "           3       0.87      0.85      0.86        62\n",
      "\n",
      "    accuracy                           0.78       313\n",
      "   macro avg       0.84      0.76      0.72       313\n",
      "weighted avg       0.83      0.78      0.73       313\n",
      "\n"
     ]
    },
    {
     "data": {
      "text/plain": [
       "<AxesSubplot:>"
      ]
     },
     "execution_count": 29,
     "metadata": {},
     "output_type": "execute_result"
    },
    {
     "data": {
      "image/png": "[encoded data removed]",
      "text/plain": [
       "<Figure size 640x480 with 2 Axes>"
      ]
     },
     "metadata": {},
     "output_type": "display_data"
    }
   ],
   "source": [
    "print(classification_report(y_teste, predicao_classe2))\n",
    "sns.heatmap(confusion_matrix(y_teste, predicao_classe2), annot=True)"
   ]
  },
  {
   "cell_type": "code",
   "execution_count": null,
   "id": "cbc3303d",
   "metadata": {},
   "outputs": [],
   "source": []
  }
 ],
 "metadata": {
  "kernelspec": {
   "display_name": "Python 3 (ipykernel)",
   "language": "python",
   "name": "python3"
  },
  "language_info": {
   "codemirror_mode": {
    "name": "ipython",
    "version": 3
   },
   "file_extension": ".py",
   "mimetype": "text/x-python",
   "name": "python",
   "nbconvert_exporter": "python",
   "pygments_lexer": "ipython3",
   "version": "3.9.13"
  }
 },
 "nbformat": 4,
 "nbformat_minor": 5
}
