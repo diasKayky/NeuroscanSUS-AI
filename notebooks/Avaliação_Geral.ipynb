{
 "cells": [
  {
   "cell_type": "markdown",
   "id": "bb4c5c10",
   "metadata": {},
   "source": [
    "# Avaliação Geral"
   ]
  },
  {
   "cell_type": "code",
   "execution_count": 1,
   "id": "f0914701",
   "metadata": {},
   "outputs": [],
   "source": [
    "# Importações de libaries importantes\n",
    "import pandas as pd\n",
    "import numpy as np\n",
    "from sklearn.metrics import classification_report, confusion_matrix\n",
    "import tensorflow as tf\n",
    "import sys\n",
    "sys.path.append(\"../\")\n",
    "from neuroscan import *"
   ]
  },
  {
   "cell_type": "code",
   "execution_count": 2,
   "id": "ae36e66b",
   "metadata": {},
   "outputs": [],
   "source": [
    "# Modelo NeuroscanSUS pretreinado\n",
    "modelo = tf.keras.models.load_model(\"../neuroscan/modelos/modelo.h5\")"
   ]
  },
  {
   "cell_type": "code",
   "execution_count": 3,
   "id": "3a10474f",
   "metadata": {},
   "outputs": [],
   "source": [
    "# Dados de Teste\n",
    "\n",
    "dados_teste = tf.data.Dataset.load(\"../neuroscan/assets/imagens_teste\")\n",
    "\n",
    "x, y = next(iter(dados_teste))"
   ]
  },
  {
   "cell_type": "code",
   "execution_count": 5,
   "id": "ac5448f3",
   "metadata": {},
   "outputs": [
    {
     "name": "stdout",
     "output_type": "stream",
     "text": [
      "1/1 [==============================] - 2s 2s/step\n"
     ]
    }
   ],
   "source": [
    "predicao = modelo.predict(x)"
   ]
  },
  {
   "cell_type": "code",
   "execution_count": 6,
   "id": "34c61ea7",
   "metadata": {},
   "outputs": [],
   "source": [
    "predicao_classe = np.argmax(predicao, axis=-1)"
   ]
  },
  {
   "cell_type": "code",
   "execution_count": 7,
   "id": "2ed60db8",
   "metadata": {},
   "outputs": [
    {
     "name": "stdout",
     "output_type": "stream",
     "text": [
      "              precision    recall  f1-score   support\n",
      "\n",
      "           0       0.33      0.17      0.22         6\n",
      "           1       0.80      1.00      0.89         4\n",
      "           2       0.83      0.91      0.87        11\n",
      "           3       0.83      0.91      0.87        11\n",
      "\n",
      "    accuracy                           0.78        32\n",
      "   macro avg       0.70      0.75      0.71        32\n",
      "weighted avg       0.74      0.78      0.75        32\n",
      "\n"
     ]
    }
   ],
   "source": [
    "print(classification_report(y, predicao_classe))"
   ]
  },
  {
   "cell_type": "code",
   "execution_count": null,
   "id": "3b367535",
   "metadata": {},
   "outputs": [],
   "source": []
  }
 ],
 "metadata": {
  "kernelspec": {
   "display_name": "Python 3 (ipykernel)",
   "language": "python",
   "name": "python3"
  },
  "language_info": {
   "codemirror_mode": {
    "name": "ipython",
    "version": 3
   },
   "file_extension": ".py",
   "mimetype": "text/x-python",
   "name": "python",
   "nbconvert_exporter": "python",
   "pygments_lexer": "ipython3",
   "version": "3.9.13"
  }
 },
 "nbformat": 4,
 "nbformat_minor": 5
}
